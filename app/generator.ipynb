{
 "cells": [
  {
   "cell_type": "code",
   "execution_count": 87,
   "id": "5fec3e54-e08d-4d9e-afa0-40ae19465555",
   "metadata": {
    "scrolled": true
   },
   "outputs": [],
   "source": [
    "import pandas as pd\n",
    "import json\n",
    "import re\n",
    "import joblib\n",
    "from sklearn.feature_extraction.text import TfidfVectorizer\n",
    "from sklearn.linear_model import LogisticRegression\n",
    "from sklearn.naive_bayes import MultinomialNB\n",
    "\n",
    "from sklearn.model_selection import train_test_split\n",
    "from sklearn.metrics import accuracy_score\n",
    "from nltk.corpus import stopwords\n",
    "import nltk\n",
    "import random"
   ]
  },
  {
   "cell_type": "code",
   "execution_count": 88,
   "id": "5eb37d43-a023-4712-a63d-5dc7b56d9f2e",
   "metadata": {},
   "outputs": [
    {
     "name": "stdout",
     "output_type": "stream",
     "text": [
      "Index(['Msg', 'Label'], dtype='object')\n",
      "                                                 Msg     Label\n",
      "0  CONGRATULATIONS! FREE 2GB data is yours! Claim...      spam\n",
      "1  Hi! Thank you for being with Vi-India's FASTES...      spam\n",
      "2  As part of Cyber Swachhta Pakhwada, CERT-In Go...      spam\n",
      "3                  I will try to manage took tablets  not_spam\n",
      "4  Study from Home with Vi!! Watch Kite Victers C...      spam\n"
     ]
    },
    {
     "name": "stderr",
     "output_type": "stream",
     "text": [
      "[nltk_data] Downloading package stopwords to\n",
      "[nltk_data]     C:\\Users\\PythonTeam\\AppData\\Roaming\\nltk_data...\n",
      "[nltk_data]   Package stopwords is already up-to-date!\n"
     ]
    }
   ],
   "source": [
    "nltk.download('stopwords')\n",
    "stop_words = set(stopwords.words('english'))\n",
    "\n",
    "# Load Dataset from JSON\n",
    "with open(\"dataset.json\", \"r\", encoding=\"utf-8\") as file:\n",
    "    data = json.load(file)\n",
    "\n",
    "df = pd.DataFrame(data)\n",
    "print(df.columns)\n",
    "print(df.head())\n",
    "\n"
   ]
  },
  {
   "cell_type": "code",
   "execution_count": 89,
   "id": "72fd07c4-e32a-4d75-a1ae-bcb513816a8d",
   "metadata": {},
   "outputs": [],
   "source": [
    "# Ensure consistent column names\n",
    "df = df.rename(columns={'post': 'Msg', 'Label': 'Label'})\n",
    "\n",
    "# Encode labels\n",
    "df['Label'] = df['Label'].map({'spam': 1, 'not_spam': 0})"
   ]
  },
  {
   "cell_type": "code",
   "execution_count": 90,
   "id": "e8128a2f-c26e-4b8b-97f4-c026844df776",
   "metadata": {},
   "outputs": [],
   "source": [
    "if 'Msg' in df.columns and 'Label' in df.columns:\n",
    "    df.rename(columns={'Msg': 'Post', 'Label': 'Label'}, inplace=True)\n"
   ]
  },
  {
   "cell_type": "code",
   "execution_count": 91,
   "id": "4cc47a8a-03f7-418d-8ee0-272adf4a7668",
   "metadata": {},
   "outputs": [
    {
     "data": {
      "text/html": [
       "<div>\n",
       "<style scoped>\n",
       "    .dataframe tbody tr th:only-of-type {\n",
       "        vertical-align: middle;\n",
       "    }\n",
       "\n",
       "    .dataframe tbody tr th {\n",
       "        vertical-align: top;\n",
       "    }\n",
       "\n",
       "    .dataframe thead th {\n",
       "        text-align: right;\n",
       "    }\n",
       "</style>\n",
       "<table border=\"1\" class=\"dataframe\">\n",
       "  <thead>\n",
       "    <tr style=\"text-align: right;\">\n",
       "      <th></th>\n",
       "      <th>Post</th>\n",
       "      <th>Label</th>\n",
       "    </tr>\n",
       "  </thead>\n",
       "  <tbody>\n",
       "    <tr>\n",
       "      <th>0</th>\n",
       "      <td>CONGRATULATIONS! FREE 2GB data is yours! Claim...</td>\n",
       "      <td>1</td>\n",
       "    </tr>\n",
       "    <tr>\n",
       "      <th>1</th>\n",
       "      <td>Hi! Thank you for being with Vi-India's FASTES...</td>\n",
       "      <td>1</td>\n",
       "    </tr>\n",
       "    <tr>\n",
       "      <th>2</th>\n",
       "      <td>As part of Cyber Swachhta Pakhwada, CERT-In Go...</td>\n",
       "      <td>1</td>\n",
       "    </tr>\n",
       "    <tr>\n",
       "      <th>3</th>\n",
       "      <td>I will try to manage took tablets</td>\n",
       "      <td>0</td>\n",
       "    </tr>\n",
       "    <tr>\n",
       "      <th>4</th>\n",
       "      <td>Study from Home with Vi!! Watch Kite Victers C...</td>\n",
       "      <td>1</td>\n",
       "    </tr>\n",
       "  </tbody>\n",
       "</table>\n",
       "</div>"
      ],
      "text/plain": [
       "                                                Post  Label\n",
       "0  CONGRATULATIONS! FREE 2GB data is yours! Claim...      1\n",
       "1  Hi! Thank you for being with Vi-India's FASTES...      1\n",
       "2  As part of Cyber Swachhta Pakhwada, CERT-In Go...      1\n",
       "3                  I will try to manage took tablets      0\n",
       "4  Study from Home with Vi!! Watch Kite Victers C...      1"
      ]
     },
     "execution_count": 91,
     "metadata": {},
     "output_type": "execute_result"
    }
   ],
   "source": [
    "df.head()"
   ]
  },
  {
   "cell_type": "code",
   "execution_count": 92,
   "id": "cdd1caad",
   "metadata": {},
   "outputs": [],
   "source": [
    "# Data Augmentation with Evasive Techniques\n",
    "def add_evasive_techniques(text):\n",
    "    replacements = {\n",
    "        'a': '@', 'e': '3', 'i': '1', 'o': '0', 's': '$', 'b': '8',\n",
    "        't': '7', 'g': '6', 'z': '2'\n",
    "    }\n",
    "    # Character substitution\n",
    "    evasive_text = ''.join([replacements.get(c, c) for c in text.lower()])\n",
    "    \n",
    "    # Random symbol injection (with ~30% chance per character)\n",
    "    symbols = ['*', '~', '#', '!', '?']\n",
    "    evasive_text = ''.join(\n",
    "        [ch + random.choice(symbols) if random.random() > 0.7 else ch for ch in evasive_text]\n",
    "    )\n",
    "    \n",
    "    return evasive_text\n"
   ]
  },
  {
   "cell_type": "code",
   "execution_count": 93,
   "id": "74a9a79e-3ec1-4fa8-ad4b-9309c7b4bcf5",
   "metadata": {},
   "outputs": [],
   "source": [
    "# Apply augmentation to spam messages only (Label == 1) with 70% probability\n",
    "df['augmented_message'] = df.apply(\n",
    "    lambda row: add_evasive_techniques(row['Post']) if row['Label'] == 1 and random.random() > 0.3 else row['Post'],\n",
    "    axis=1\n",
    ")"
   ]
  },
  {
   "cell_type": "code",
   "execution_count": 94,
   "id": "0f6c08f7-7858-4672-bbb8-ed204c535cb4",
   "metadata": {},
   "outputs": [
    {
     "data": {
      "text/html": [
       "<div>\n",
       "<style scoped>\n",
       "    .dataframe tbody tr th:only-of-type {\n",
       "        vertical-align: middle;\n",
       "    }\n",
       "\n",
       "    .dataframe tbody tr th {\n",
       "        vertical-align: top;\n",
       "    }\n",
       "\n",
       "    .dataframe thead th {\n",
       "        text-align: right;\n",
       "    }\n",
       "</style>\n",
       "<table border=\"1\" class=\"dataframe\">\n",
       "  <thead>\n",
       "    <tr style=\"text-align: right;\">\n",
       "      <th></th>\n",
       "      <th>Post</th>\n",
       "      <th>Label</th>\n",
       "      <th>augmented_message</th>\n",
       "    </tr>\n",
       "  </thead>\n",
       "  <tbody>\n",
       "    <tr>\n",
       "      <th>0</th>\n",
       "      <td>CONGRATULATIONS! FREE 2GB data is yours! Claim...</td>\n",
       "      <td>1</td>\n",
       "      <td>c!0n6r@7ul#@710n$~!* ~fr3!3 268 ~d@?7@ ?1?$ y0...</td>\n",
       "    </tr>\n",
       "    <tr>\n",
       "      <th>1</th>\n",
       "      <td>Hi! Thank you for being with Vi-India's FASTES...</td>\n",
       "      <td>1</td>\n",
       "      <td>Hi! Thank you for being with Vi-India's FASTES...</td>\n",
       "    </tr>\n",
       "    <tr>\n",
       "      <th>2</th>\n",
       "      <td>As part of Cyber Swachhta Pakhwada, CERT-In Go...</td>\n",
       "      <td>1</td>\n",
       "      <td>@$ p#@r7 *0f cy*83r~ $*w@chh7@ ?p@kh~w*@d@,~ c...</td>\n",
       "    </tr>\n",
       "    <tr>\n",
       "      <th>3</th>\n",
       "      <td>I will try to manage took tablets</td>\n",
       "      <td>0</td>\n",
       "      <td>I will try to manage took tablets</td>\n",
       "    </tr>\n",
       "    <tr>\n",
       "      <th>4</th>\n",
       "      <td>Study from Home with Vi!! Watch Kite Victers C...</td>\n",
       "      <td>1</td>\n",
       "      <td>$!7u?dy fr~0m ?h0m3~ w#17!h* ~v1!*! ~w@7ch k17...</td>\n",
       "    </tr>\n",
       "  </tbody>\n",
       "</table>\n",
       "</div>"
      ],
      "text/plain": [
       "                                                Post  Label  \\\n",
       "0  CONGRATULATIONS! FREE 2GB data is yours! Claim...      1   \n",
       "1  Hi! Thank you for being with Vi-India's FASTES...      1   \n",
       "2  As part of Cyber Swachhta Pakhwada, CERT-In Go...      1   \n",
       "3                  I will try to manage took tablets      0   \n",
       "4  Study from Home with Vi!! Watch Kite Victers C...      1   \n",
       "\n",
       "                                   augmented_message  \n",
       "0  c!0n6r@7ul#@710n$~!* ~fr3!3 268 ~d@?7@ ?1?$ y0...  \n",
       "1  Hi! Thank you for being with Vi-India's FASTES...  \n",
       "2  @$ p#@r7 *0f cy*83r~ $*w@chh7@ ?p@kh~w*@d@,~ c...  \n",
       "3                  I will try to manage took tablets  \n",
       "4  $!7u?dy fr~0m ?h0m3~ w#17!h* ~v1!*! ~w@7ch k17...  "
      ]
     },
     "execution_count": 94,
     "metadata": {},
     "output_type": "execute_result"
    }
   ],
   "source": [
    "df.head()"
   ]
  },
  {
   "cell_type": "code",
   "execution_count": 95,
   "id": "a2da4426",
   "metadata": {},
   "outputs": [],
   "source": [
    "def preprocess_text(text):\n",
    "    if not isinstance(text, str):\n",
    "        return \"\"  # or you could return `text` unchanged\n",
    "    text = re.sub(r'\\W', ' ', text)  \n",
    "    text = text.lower()\n",
    "    text = \" \".join([word for word in text.split() if word not in stop_words])\n",
    "    return text\n",
    "\n",
    "\n",
    "df['cleaned_message'] = df['Post'].apply(preprocess_text)\n",
    "\n"
   ]
  },
  {
   "cell_type": "markdown",
   "id": "bf86adc6",
   "metadata": {},
   "source": [
    "## Split Data"
   ]
  },
  {
   "cell_type": "code",
   "execution_count": 96,
   "id": "dfe23c25-e0ee-402d-8312-9b1f667b2997",
   "metadata": {},
   "outputs": [],
   "source": [
    "X = df['cleaned_message']\n",
    "y = df['Label']\n",
    "X_train, X_test, y_train, y_test = train_test_split(X, y, test_size=0.3, random_state=42)"
   ]
  },
  {
   "cell_type": "markdown",
   "id": "37c94e8c",
   "metadata": {},
   "source": [
    "##  Tokenization and Padding for LSTM Model"
   ]
  },
  {
   "cell_type": "code",
   "execution_count": 97,
   "id": "384fdffd",
   "metadata": {},
   "outputs": [],
   "source": [
    "max_words = 5000\n",
    "max_len = 100\n",
    "tokenizer = Tokenizer(num_words=max_words)\n",
    "tokenizer.fit_on_texts(X_train)\n",
    "X_train_seq = tokenizer.texts_to_sequences(X_train)\n",
    "X_test_seq = tokenizer.texts_to_sequences(X_test)\n",
    "X_train_pad = pad_sequences(X_train_seq, maxlen=max_len)\n",
    "X_test_pad = pad_sequences(X_test_seq, maxlen=max_len)"
   ]
  },
  {
   "cell_type": "markdown",
   "id": "0963e7c4",
   "metadata": {},
   "source": [
    "# Comparative Analysis of Machine Learning Models"
   ]
  },
  {
   "cell_type": "markdown",
   "id": "f3b07a45",
   "metadata": {},
   "source": [
    "## Naive Bayes Model & Logistic Regression"
   ]
  },
  {
   "cell_type": "code",
   "execution_count": 98,
   "id": "57dd4dfb-a628-4a30-9b33-7ce252a7500e",
   "metadata": {},
   "outputs": [],
   "source": [
    "# TF-IDF Vectorization for Traditional Models\n",
    "tfidf = TfidfVectorizer(max_features=3000)\n",
    "X_train_tfidf = tfidf.fit_transform(X_train).toarray()\n",
    "X_test_tfidf = tfidf.transform(X_test).toarray()\n"
   ]
  },
  {
   "cell_type": "code",
   "execution_count": 99,
   "id": "36c0aac1-fe0e-4908-8d1c-a532c11597d0",
   "metadata": {},
   "outputs": [
    {
     "name": "stdout",
     "output_type": "stream",
     "text": [
      "Accuracy: 0.9706314243759178\n"
     ]
    }
   ],
   "source": [
    "model = LogisticRegression()\n",
    "model.fit(X_train_tfidf, y_train)\n",
    "preds = model.predict(X_test_tfidf)\n",
    "print(\"Accuracy:\", accuracy_score(y_test, preds))\n"
   ]
  },
  {
   "cell_type": "code",
   "execution_count": 100,
   "id": "de987fd1-5e5f-4bd6-b85d-c5ca9d7289f6",
   "metadata": {},
   "outputs": [
    {
     "name": "stdout",
     "output_type": "stream",
     "text": [
      "Naive Bayes Accuracy: 0.9838472834067548\n"
     ]
    }
   ],
   "source": [
    "\n",
    "\n",
    "# Initialize and train Naive Bayes model\n",
    "model2 = MultinomialNB()\n",
    "model2.fit(X_train_tfidf, y_train)\n",
    "\n",
    "# Predict and evaluate\n",
    "preds2 = model2.predict(X_test_tfidf)\n",
    "print(\"Naive Bayes Accuracy:\", accuracy_score(y_test, preds2))"
   ]
  },
  {
   "cell_type": "code",
   "execution_count": 101,
   "id": "9b2c4bed-6ef1-4bbb-988d-7cf00f7ef412",
   "metadata": {},
   "outputs": [
    {
     "data": {
      "text/plain": [
       "['tfidf_vectorizer.joblib']"
      ]
     },
     "execution_count": 101,
     "metadata": {},
     "output_type": "execute_result"
    }
   ],
   "source": [
    "# Save\n",
    "joblib.dump(model, 'spam_logReq.joblib')\n",
    "joblib.dump(model2, 'spam_Navie.joblib')\n",
    "joblib.dump(tfidf, 'tfidf_vectorizer.joblib')"
   ]
  },
  {
   "cell_type": "code",
   "execution_count": null,
   "id": "e2a344b0-9b0e-47b9-abd3-45c4ada591c0",
   "metadata": {},
   "outputs": [],
   "source": []
  },
  {
   "cell_type": "code",
   "execution_count": null,
   "id": "f886d5b3",
   "metadata": {},
   "outputs": [],
   "source": []
  },
  {
   "cell_type": "code",
   "execution_count": null,
   "id": "8a559848",
   "metadata": {},
   "outputs": [],
   "source": []
  },
  {
   "cell_type": "code",
   "execution_count": null,
   "id": "bda291dd",
   "metadata": {},
   "outputs": [],
   "source": []
  },
  {
   "cell_type": "code",
   "execution_count": null,
   "id": "89ad22a3-ee4f-4e7b-bac9-519f827f7a0c",
   "metadata": {},
   "outputs": [],
   "source": []
  }
 ],
 "metadata": {
  "kernelspec": {
   "display_name": "Python 3 (ipykernel)",
   "language": "python",
   "name": "python3"
  },
  "language_info": {
   "codemirror_mode": {
    "name": "ipython",
    "version": 3
   },
   "file_extension": ".py",
   "mimetype": "text/x-python",
   "name": "python",
   "nbconvert_exporter": "python",
   "pygments_lexer": "ipython3",
   "version": "3.9.12"
  }
 },
 "nbformat": 4,
 "nbformat_minor": 5
}
